{
 "cells": [
  {
   "cell_type": "code",
   "execution_count": 1,
   "id": "35ec2315",
   "metadata": {},
   "outputs": [
    {
     "data": {
      "text/plain": [
       "['mozzarella', 'cinderella', 'salmonella']"
      ]
     },
     "execution_count": 1,
     "metadata": {},
     "output_type": "execute_result"
    }
   ],
   "source": [
    "things = list(['mozzarella', 'cinderella','salmonella'])\n",
    "things"
   ]
  },
  {
   "cell_type": "code",
   "execution_count": 29,
   "id": "0766c110",
   "metadata": {},
   "outputs": [
    {
     "data": {
      "text/plain": [
       "'Cinderella'"
      ]
     },
     "execution_count": 29,
     "metadata": {},
     "output_type": "execute_result"
    }
   ],
   "source": [
    " \"cinderella\".capitalize()\n"
   ]
  },
  {
   "cell_type": "code",
   "execution_count": 31,
   "id": "460c0030",
   "metadata": {},
   "outputs": [
    {
     "data": {
      "text/plain": [
       "['MOZZARELLA', 'CINDERELLA', 'SALMONELLA']"
      ]
     },
     "execution_count": 31,
     "metadata": {},
     "output_type": "execute_result"
    }
   ],
   "source": [
    "list(map(lambda x: x.upper(), [\"mozzarella\", \"cinderella\", \"salmonella\"]))"
   ]
  },
  {
   "cell_type": "code",
   "execution_count": 32,
   "id": "00d71052",
   "metadata": {},
   "outputs": [
    {
     "name": "stdout",
     "output_type": "stream",
     "text": [
      "['mozzarella', 'cinderella']\n"
     ]
    }
   ],
   "source": [
    "things = [\"mozzarella\", \"cinderella\", \"salmonella\"]\n",
    "del things[2]\n",
    "print(things)"
   ]
  },
  {
   "cell_type": "code",
   "execution_count": 47,
   "id": "f7bef632",
   "metadata": {},
   "outputs": [
    {
     "name": "stdout",
     "output_type": "stream",
     "text": [
      "['Harry', 'Ron', 'Hermione']\n"
     ]
    }
   ],
   "source": [
    "def good():\n",
    "    return ['Harry', 'Ron', 'Hermione']\n",
    "print(good())"
   ]
  },
  {
   "cell_type": "code",
   "execution_count": 54,
   "id": "824a246d",
   "metadata": {},
   "outputs": [
    {
     "name": "stdout",
     "output_type": "stream",
     "text": [
      "{1, 3, 5, 7, 9}\n"
     ]
    }
   ],
   "source": [
    "limit = 10\n",
    "odd = {num for num in range(limit) if num % 2 == 1}\n",
    "print(odd)"
   ]
  }
 ],
 "metadata": {
  "kernelspec": {
   "display_name": "Python 3 (ipykernel)",
   "language": "python",
   "name": "python3"
  },
  "language_info": {
   "codemirror_mode": {
    "name": "ipython",
    "version": 3
   },
   "file_extension": ".py",
   "mimetype": "text/x-python",
   "name": "python",
   "nbconvert_exporter": "python",
   "pygments_lexer": "ipython3",
   "version": "3.10.9"
  }
 },
 "nbformat": 4,
 "nbformat_minor": 5
}
